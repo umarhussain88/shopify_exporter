{
 "cells": [
  {
   "cell_type": "code",
   "execution_count": 1,
   "id": "3d762e6e-a9f3-405a-8563-20160971b0de",
   "metadata": {},
   "outputs": [],
   "source": [
    "import pandas as pd\n",
    "from pathlib import Path\n"
   ]
  },
  {
   "cell_type": "markdown",
   "id": "335d2c42-c264-4f7c-b4ce-3dac2dbca9c7",
   "metadata": {
    "jp-MarkdownHeadingCollapsed": true,
    "tags": []
   },
   "source": [
    "# helpers "
   ]
  },
  {
   "cell_type": "code",
   "execution_count": 35,
   "id": "ad72d140-e510-4a13-bab5-55fc4ee27312",
   "metadata": {},
   "outputs": [],
   "source": [
    "src_path = Path('/mnt/c/Users/umarh/Dropbox/Work/Employment/Shopify Transformation - Nabil')"
   ]
  },
  {
   "cell_type": "code",
   "execution_count": 36,
   "id": "99e069cd-2a56-402b-be33-a1f1fea5ba34",
   "metadata": {},
   "outputs": [],
   "source": [
    "raw = src_path.joinpath('raw_data')\n",
    "dim = src_path.joinpath('dimension_lookups')\n",
    "output = src_path.joinpath('output')"
   ]
  },
  {
   "cell_type": "code",
   "execution_count": 50,
   "id": "10b51efc-a582-4257-88aa-d2713e7a3794",
   "metadata": {},
   "outputs": [
    {
     "data": {
      "text/plain": [
       "Timestamp('2021-09-11 17:09:49.447462656')"
      ]
     },
     "execution_count": 50,
     "metadata": {},
     "output_type": "execute_result"
    }
   ],
   "source": [
    "pd.to_datetime(list(src_path.glob('*.csv'))[0].stat().st_mtime,unit='s')"
   ]
  },
  {
   "cell_type": "code",
   "execution_count": 54,
   "id": "3f14d897-83f5-4856-ba0e-1e971c45d5bc",
   "metadata": {},
   "outputs": [],
   "source": [
    "def get_newest_file(path : Path, ext : str) -> Path:\n",
    "    \n",
    "    file_d = {\n",
    "                  f : \n",
    "                  pd.to_datetime(f.stat().st_mtime, unit='s') \n",
    "              for f \n",
    "              in path.glob(f'*.{ext}')\n",
    "             }\n",
    "    return max(file_d, key =file_d.get) "
   ]
  },
  {
   "cell_type": "code",
   "execution_count": null,
   "id": "c74d341b-a76b-4178-b246-1cd14bb7a07d",
   "metadata": {},
   "outputs": [],
   "source": []
  },
  {
   "cell_type": "markdown",
   "id": "17f9f85f-facf-4685-a275-fe7151faa54e",
   "metadata": {},
   "source": [
    "# Sample Output\n",
    "\n"
   ]
  },
  {
   "cell_type": "code",
   "execution_count": 38,
   "id": "a7fa35b0-5721-4a8f-b92e-98c214365f15",
   "metadata": {},
   "outputs": [],
   "source": [
    "samp = pd.read_csv(src_path.joinpath('Result.csv'))"
   ]
  },
  {
   "cell_type": "code",
   "execution_count": 56,
   "id": "bb086de1-583c-4660-8e4b-e49bfe5ec638",
   "metadata": {},
   "outputs": [
    {
     "data": {
      "text/plain": [
       "PosixPath('/mnt/c/Users/umarh/Dropbox/Work/Employment/Shopify Transformation - Nabil/raw_data/8-21 stock list.xls')"
      ]
     },
     "execution_count": 56,
     "metadata": {},
     "output_type": "execute_result"
    }
   ],
   "source": [
    "get_newest_file(raw, 'xls')"
   ]
  },
  {
   "cell_type": "markdown",
   "id": "420c07d3-60c5-4717-b3d3-4ba84d0a2e78",
   "metadata": {},
   "source": [
    "# Raw Data"
   ]
  },
  {
   "cell_type": "code",
   "execution_count": 58,
   "id": "5e2ef1c1-ea05-4980-8c04-f2433cbea569",
   "metadata": {},
   "outputs": [],
   "source": [
    "raw_df = pd.read_excel(get_newest_file(raw, 'xls'))"
   ]
  },
  {
   "cell_type": "code",
   "execution_count": 74,
   "id": "9f9eb48e-77bf-45a6-b3f4-7f84e8fcf3e8",
   "metadata": {},
   "outputs": [],
   "source": [
    "# remove total column, has chinese character in so will use interger slicing. \n",
    "raw_df = raw_df.iloc[:,:-1]"
   ]
  },
  {
   "cell_type": "code",
   "execution_count": 79,
   "id": "b11e22aa-3279-4a1c-bf89-3c292dca80ed",
   "metadata": {},
   "outputs": [],
   "source": [
    "# chinese char again so rename using list slicing.\n",
    "raw_df = raw_df.rename(columns={raw_df.columns[0] : 'SKU'})"
   ]
  },
  {
   "cell_type": "code",
   "execution_count": 102,
   "id": "708a3b56-2468-4c6d-9773-b3b06e6bcf4a",
   "metadata": {},
   "outputs": [],
   "source": [
    "raw_transform = pd.melt(raw_df,\n",
    "        id_vars='SKU',\n",
    "        var_name='Option1 Value', \n",
    "        value_name='70 rue de la prulay').dropna(subset=['70 rue de la prulay']\n",
    "        )"
   ]
  },
  {
   "cell_type": "markdown",
   "id": "ac43895e-122c-4d63-9e78-71060922faf4",
   "metadata": {},
   "source": [
    "# Lookups "
   ]
  },
  {
   "cell_type": "code",
   "execution_count": 133,
   "id": "df9d6305-d408-45be-8b6e-1850a3744444",
   "metadata": {},
   "outputs": [],
   "source": [
    "dim_df = pd.read_excel(get_newest_file(dim,'xlsx'),engine='openpyxl')"
   ]
  },
  {
   "cell_type": "code",
   "execution_count": 134,
   "id": "76096845-416a-44a2-86a5-6e6f45394a58",
   "metadata": {},
   "outputs": [],
   "source": [
    "dim_df['SKU_Cleaned'] = dim_df['SKU'].str.split('-',expand=True)[0]"
   ]
  },
  {
   "cell_type": "code",
   "execution_count": 135,
   "id": "aafae135-975d-4e10-8a39-7a2a5160bd12",
   "metadata": {},
   "outputs": [],
   "source": [
    "dim_df_sku_handl = dim_df.drop_duplicates(subset=['SKU_Cleaned', 'Handle'])[['Handle','SKU_Cleaned']]"
   ]
  },
  {
   "cell_type": "code",
   "execution_count": 136,
   "id": "47ebf486-1514-4769-b807-7b6f9557c1b9",
   "metadata": {},
   "outputs": [],
   "source": [
    "# dim_df_sku_handl = dim_df_sku_handl.rename(columns={'SKU_Cleaned': 'SKU'})"
   ]
  },
  {
   "cell_type": "code",
   "execution_count": 165,
   "id": "92667703-ae62-4530-8a6a-4db631f3aab3",
   "metadata": {},
   "outputs": [],
   "source": [
    "result = pd.merge(raw_transform.assign(SKU_Cleaned=\n",
    "                              raw_transform['SKU']\\\n",
    "                              .str.replace('\\(.*\\)','',regex=True)\n",
    "                             ), \n",
    "         dim_df_sku_handl,\n",
    "         on=['SKU_Cleaned']\n",
    "         ,how='left')"
   ]
  },
  {
   "cell_type": "code",
   "execution_count": 166,
   "id": "02802e56-bf85-47db-8c99-e0a97e0cbc6f",
   "metadata": {},
   "outputs": [],
   "source": [
    "result['Option1 Name'] = 'Size'"
   ]
  },
  {
   "cell_type": "code",
   "execution_count": 167,
   "id": "03b59a8a-4abb-46cf-8317-f9594993deda",
   "metadata": {},
   "outputs": [],
   "source": [
    "#assign missing columns\n",
    "result = result.assign(**{s : pd.NA for s in samp.columns if not s in result.columns})"
   ]
  },
  {
   "cell_type": "code",
   "execution_count": 168,
   "id": "1bd17b14-1ebb-40d0-8772-77062087ab26",
   "metadata": {},
   "outputs": [
    {
     "data": {
      "text/plain": [
       "(3619, 3)"
      ]
     },
     "execution_count": 168,
     "metadata": {},
     "output_type": "execute_result"
    }
   ],
   "source": [
    "raw_transform.shape"
   ]
  },
  {
   "cell_type": "code",
   "execution_count": 169,
   "id": "4426acfc-a8b9-491e-a1cb-7039d650b6eb",
   "metadata": {},
   "outputs": [],
   "source": [
    "result_final = result[samp.columns]"
   ]
  },
  {
   "cell_type": "code",
   "execution_count": 170,
   "id": "9ea5361a-fc48-4367-a959-0063048ffd76",
   "metadata": {},
   "outputs": [
    {
     "data": {
      "text/plain": [
       "'20210911_result.csv'"
      ]
     },
     "execution_count": 170,
     "metadata": {},
     "output_type": "execute_result"
    }
   ],
   "source": [
    "pd.Timestamp('today').strftime('%Y%m%d_result.csv')"
   ]
  },
  {
   "cell_type": "code",
   "execution_count": 176,
   "id": "e3a38c58-2c0b-4914-9a77-fa1b5542b620",
   "metadata": {},
   "outputs": [],
   "source": [
    "result_final = result_final.sort_values(['SKU'])"
   ]
  },
  {
   "cell_type": "code",
   "execution_count": 177,
   "id": "1e7cc323-bbb4-4edf-b3e9-9633064cb4aa",
   "metadata": {},
   "outputs": [],
   "source": [
    "result_final.to_csv(\n",
    "    output.joinpath(pd.Timestamp('today').strftime('%Y%m%d_%H%M%S_result.csv')\n",
    "                   ), index=False)"
   ]
  },
  {
   "cell_type": "code",
   "execution_count": null,
   "id": "022b220f-0345-4519-a00c-37c1fb43c37a",
   "metadata": {},
   "outputs": [],
   "source": []
  },
  {
   "cell_type": "code",
   "execution_count": null,
   "id": "35675adf-7a6a-44c1-802a-4e137bf0eb4a",
   "metadata": {},
   "outputs": [],
   "source": []
  }
 ],
 "metadata": {
  "kernelspec": {
   "display_name": "Python 3 (ipykernel)",
   "language": "python",
   "name": "python3"
  },
  "language_info": {
   "codemirror_mode": {
    "name": "ipython",
    "version": 3
   },
   "file_extension": ".py",
   "mimetype": "text/x-python",
   "name": "python",
   "nbconvert_exporter": "python",
   "pygments_lexer": "ipython3",
   "version": "3.8.5"
  }
 },
 "nbformat": 4,
 "nbformat_minor": 5
}
