{
 "cells": [
  {
   "cell_type": "code",
   "execution_count": 1,
   "id": "3d762e6e-a9f3-405a-8563-20160971b0de",
   "metadata": {},
   "outputs": [],
   "source": [
    "import pandas as pd\n",
    "from pathlib import Path\n"
   ]
  },
  {
   "cell_type": "markdown",
   "id": "335d2c42-c264-4f7c-b4ce-3dac2dbca9c7",
   "metadata": {
    "tags": []
   },
   "source": [
    "# helpers "
   ]
  },
  {
   "cell_type": "code",
   "execution_count": 2,
   "id": "ad72d140-e510-4a13-bab5-55fc4ee27312",
   "metadata": {},
   "outputs": [],
   "source": [
    "src_path = Path('/mnt/c/Users/umarh/Dropbox/Work/Employment/Shopify Transformation - Nabil')"
   ]
  },
  {
   "cell_type": "code",
   "execution_count": 3,
   "id": "99e069cd-2a56-402b-be33-a1f1fea5ba34",
   "metadata": {},
   "outputs": [],
   "source": [
    "raw = src_path.joinpath('raw_data')\n",
    "dim = src_path.joinpath('dimension_lookups')\n",
    "output = src_path.joinpath('output')"
   ]
  },
  {
   "cell_type": "code",
   "execution_count": 5,
   "id": "3f14d897-83f5-4856-ba0e-1e971c45d5bc",
   "metadata": {},
   "outputs": [],
   "source": [
    "def get_newest_file(path : Path, ext : str) -> Path:\n",
    "    \n",
    "    file_d = {\n",
    "                  f : \n",
    "                  pd.to_datetime(f.stat().st_mtime, unit='s') \n",
    "              for f \n",
    "              in path.glob(f'*.{ext}')\n",
    "             }\n",
    "    return max(file_d, key =file_d.get) "
   ]
  },
  {
   "cell_type": "markdown",
   "id": "17f9f85f-facf-4685-a275-fe7151faa54e",
   "metadata": {},
   "source": [
    "# Sample Output\n",
    "\n"
   ]
  },
  {
   "cell_type": "code",
   "execution_count": 7,
   "id": "a7fa35b0-5721-4a8f-b92e-98c214365f15",
   "metadata": {},
   "outputs": [],
   "source": [
    "samp = pd.read_csv(src_path.joinpath('Result.csv'))"
   ]
  },
  {
   "cell_type": "markdown",
   "id": "420c07d3-60c5-4717-b3d3-4ba84d0a2e78",
   "metadata": {},
   "source": [
    "# Raw Data"
   ]
  },
  {
   "cell_type": "code",
   "execution_count": 58,
   "id": "5e2ef1c1-ea05-4980-8c04-f2433cbea569",
   "metadata": {},
   "outputs": [],
   "source": [
    "raw_df = pd.read_excel(get_newest_file(raw, 'xls'))"
   ]
  },
  {
   "cell_type": "code",
   "execution_count": 59,
   "id": "9f9eb48e-77bf-45a6-b3f4-7f84e8fcf3e8",
   "metadata": {},
   "outputs": [],
   "source": [
    "# remove total column, has chinese character in so will use interger slicing. \n",
    "raw_df = raw_df.iloc[:,:-1]"
   ]
  },
  {
   "cell_type": "code",
   "execution_count": 60,
   "id": "b11e22aa-3279-4a1c-bf89-3c292dca80ed",
   "metadata": {},
   "outputs": [],
   "source": [
    "# chinese char again so rename using list slicing.\n",
    "raw_df = raw_df.rename(columns={raw_df.columns[0] : 'src_sku'})"
   ]
  },
  {
   "cell_type": "code",
   "execution_count": 61,
   "id": "708a3b56-2468-4c6d-9773-b3b06e6bcf4a",
   "metadata": {},
   "outputs": [],
   "source": [
    "raw_transform = pd.melt(raw_df,\n",
    "        id_vars='src_sku',\n",
    "        var_name='Option1 Value', \n",
    "        value_name='70 rue de la prulay').dropna(subset=['70 rue de la prulay']\n",
    "        )"
   ]
  },
  {
   "cell_type": "code",
   "execution_count": 62,
   "id": "9a222f38-e7aa-4737-966b-cb8ceb60a8d4",
   "metadata": {},
   "outputs": [],
   "source": [
    "raw_transform['SKU'] = (raw_transform['src_sku'].str.replace('\\(.*\\)','',regex=True) + '-' + raw_transform['Option1 Value']).str.strip()"
   ]
  },
  {
   "cell_type": "code",
   "execution_count": 63,
   "id": "64b58e50-ced8-419f-835b-1786975908f0",
   "metadata": {},
   "outputs": [],
   "source": [
    "raw_transform['SKU'] = raw_transform['SKU'].str.replace('-F', '',regex=False)"
   ]
  },
  {
   "cell_type": "markdown",
   "id": "ac43895e-122c-4d63-9e78-71060922faf4",
   "metadata": {},
   "source": [
    "# Lookups "
   ]
  },
  {
   "cell_type": "code",
   "execution_count": 39,
   "id": "df9d6305-d408-45be-8b6e-1850a3744444",
   "metadata": {},
   "outputs": [],
   "source": [
    "dim_df = pd.read_excel(get_newest_file(dim,'xlsx'),engine='openpyxl')"
   ]
  },
  {
   "cell_type": "code",
   "execution_count": 134,
   "id": "76096845-416a-44a2-86a5-6e6f45394a58",
   "metadata": {},
   "outputs": [],
   "source": [
    "# don't need this now, join logic is sku + '-' + size \n",
    "# dim_df['SKU_Cleaned'] = dim_df['SKU'].str.split('-',expand=True)[0]"
   ]
  },
  {
   "cell_type": "code",
   "execution_count": 135,
   "id": "aafae135-975d-4e10-8a39-7a2a5160bd12",
   "metadata": {},
   "outputs": [],
   "source": [
    "# dim_df_sku_handl = dim_df.drop_duplicates(subset=['SKU_Cleaned', 'Handle'])[['Handle','SKU_Cleaned']]"
   ]
  },
  {
   "cell_type": "code",
   "execution_count": 136,
   "id": "47ebf486-1514-4769-b807-7b6f9557c1b9",
   "metadata": {},
   "outputs": [],
   "source": [
    "# dim_df_sku_handl = dim_df_sku_handl.rename(columns={'SKU_Cleaned': 'SKU'})"
   ]
  },
  {
   "cell_type": "code",
   "execution_count": 83,
   "id": "92667703-ae62-4530-8a6a-4db631f3aab3",
   "metadata": {},
   "outputs": [],
   "source": [
    "result = pd.merge(raw_transform.drop('Option1 Value',axis=1),\n",
    "         dim_df,\n",
    "         on=['SKU'],\n",
    "         \n",
    "        how='left')"
   ]
  },
  {
   "cell_type": "code",
   "execution_count": 91,
   "id": "b5d91360-5b5b-42be-8b54-71d52933c565",
   "metadata": {},
   "outputs": [],
   "source": [
    "result['Handle'] = result['Handle'].fillna(result.groupby('src_sku')['Handle'].ffill().bfill())"
   ]
  },
  {
   "cell_type": "code",
   "execution_count": 100,
   "id": "bee6460f-c3de-45e7-8e68-c235a1d30fb6",
   "metadata": {},
   "outputs": [
    {
     "data": {
      "text/html": [
       "<div>\n",
       "<style scoped>\n",
       "    .dataframe tbody tr th:only-of-type {\n",
       "        vertical-align: middle;\n",
       "    }\n",
       "\n",
       "    .dataframe tbody tr th {\n",
       "        vertical-align: top;\n",
       "    }\n",
       "\n",
       "    .dataframe thead th {\n",
       "        text-align: right;\n",
       "    }\n",
       "</style>\n",
       "<table border=\"1\" class=\"dataframe\">\n",
       "  <thead>\n",
       "    <tr style=\"text-align: right;\">\n",
       "      <th></th>\n",
       "      <th>src_sku</th>\n",
       "      <th>70 rue de la prulay</th>\n",
       "      <th>SKU</th>\n",
       "      <th>Handle</th>\n",
       "      <th>Option1 Name</th>\n",
       "      <th>Option1 Value</th>\n",
       "    </tr>\n",
       "  </thead>\n",
       "  <tbody>\n",
       "    <tr>\n",
       "      <th>112</th>\n",
       "      <td>CA006</td>\n",
       "      <td>11.0</td>\n",
       "      <td>CA006-XS</td>\n",
       "      <td>gothic-patterned-flocking-flared-sleeves-sexy-...</td>\n",
       "      <td>NaN</td>\n",
       "      <td>NaN</td>\n",
       "    </tr>\n",
       "    <tr>\n",
       "      <th>328</th>\n",
       "      <td>CA006</td>\n",
       "      <td>11.0</td>\n",
       "      <td>CA006-S</td>\n",
       "      <td>punk-asymmetrical-women-broken-holes-black-hoo...</td>\n",
       "      <td>Size</td>\n",
       "      <td>S</td>\n",
       "    </tr>\n",
       "    <tr>\n",
       "      <th>806</th>\n",
       "      <td>CA006</td>\n",
       "      <td>21.0</td>\n",
       "      <td>CA006-M</td>\n",
       "      <td>punk-asymmetrical-women-broken-holes-black-hoo...</td>\n",
       "      <td>Size</td>\n",
       "      <td>M</td>\n",
       "    </tr>\n",
       "    <tr>\n",
       "      <th>1286</th>\n",
       "      <td>CA006</td>\n",
       "      <td>11.0</td>\n",
       "      <td>CA006-L</td>\n",
       "      <td>punk-asymmetrical-women-broken-holes-black-hoo...</td>\n",
       "      <td>Size</td>\n",
       "      <td>L</td>\n",
       "    </tr>\n",
       "    <tr>\n",
       "      <th>1793</th>\n",
       "      <td>CA006</td>\n",
       "      <td>15.0</td>\n",
       "      <td>CA006-XL</td>\n",
       "      <td>punk-asymmetrical-women-broken-holes-black-hoo...</td>\n",
       "      <td>Size</td>\n",
       "      <td>XL</td>\n",
       "    </tr>\n",
       "    <tr>\n",
       "      <th>2242</th>\n",
       "      <td>CA006</td>\n",
       "      <td>7.0</td>\n",
       "      <td>CA006-2XL</td>\n",
       "      <td>punk-asymmetrical-women-broken-holes-black-hoo...</td>\n",
       "      <td>Size</td>\n",
       "      <td>2XL</td>\n",
       "    </tr>\n",
       "    <tr>\n",
       "      <th>2824</th>\n",
       "      <td>CA006</td>\n",
       "      <td>7.0</td>\n",
       "      <td>CA006-3XL</td>\n",
       "      <td>punk-asymmetrical-women-broken-holes-black-hoo...</td>\n",
       "      <td>Size</td>\n",
       "      <td>3XL</td>\n",
       "    </tr>\n",
       "  </tbody>\n",
       "</table>\n",
       "</div>"
      ],
      "text/plain": [
       "     src_sku  70 rue de la prulay        SKU  \\\n",
       "112    CA006                 11.0   CA006-XS   \n",
       "328    CA006                 11.0    CA006-S   \n",
       "806    CA006                 21.0    CA006-M   \n",
       "1286   CA006                 11.0    CA006-L   \n",
       "1793   CA006                 15.0   CA006-XL   \n",
       "2242   CA006                  7.0  CA006-2XL   \n",
       "2824   CA006                  7.0  CA006-3XL   \n",
       "\n",
       "                                                 Handle Option1 Name  \\\n",
       "112   gothic-patterned-flocking-flared-sleeves-sexy-...          NaN   \n",
       "328   punk-asymmetrical-women-broken-holes-black-hoo...         Size   \n",
       "806   punk-asymmetrical-women-broken-holes-black-hoo...         Size   \n",
       "1286  punk-asymmetrical-women-broken-holes-black-hoo...         Size   \n",
       "1793  punk-asymmetrical-women-broken-holes-black-hoo...         Size   \n",
       "2242  punk-asymmetrical-women-broken-holes-black-hoo...         Size   \n",
       "2824  punk-asymmetrical-women-broken-holes-black-hoo...         Size   \n",
       "\n",
       "     Option1 Value  \n",
       "112            NaN  \n",
       "328              S  \n",
       "806              M  \n",
       "1286             L  \n",
       "1793            XL  \n",
       "2242           2XL  \n",
       "2824           3XL  "
      ]
     },
     "execution_count": 100,
     "metadata": {},
     "output_type": "execute_result"
    }
   ],
   "source": [
    "result[result['src_sku'].eq('CA006')]"
   ]
  },
  {
   "cell_type": "code",
   "execution_count": 69,
   "id": "03b59a8a-4abb-46cf-8317-f9594993deda",
   "metadata": {},
   "outputs": [],
   "source": [
    "#assign missing columns\n",
    "result = result.assign(**{s : pd.NA for s in samp.columns if not s in result.columns})"
   ]
  },
  {
   "cell_type": "code",
   "execution_count": 70,
   "id": "1bd17b14-1ebb-40d0-8772-77062087ab26",
   "metadata": {},
   "outputs": [
    {
     "data": {
      "text/plain": [
       "(3619, 4)"
      ]
     },
     "execution_count": 70,
     "metadata": {},
     "output_type": "execute_result"
    }
   ],
   "source": [
    "raw_transform.shape"
   ]
  },
  {
   "cell_type": "code",
   "execution_count": 71,
   "id": "4426acfc-a8b9-491e-a1cb-7039d650b6eb",
   "metadata": {},
   "outputs": [],
   "source": [
    "result_final = result[samp.columns]"
   ]
  },
  {
   "cell_type": "code",
   "execution_count": 170,
   "id": "9ea5361a-fc48-4367-a959-0063048ffd76",
   "metadata": {},
   "outputs": [
    {
     "data": {
      "text/plain": [
       "'20210911_result.csv'"
      ]
     },
     "execution_count": 170,
     "metadata": {},
     "output_type": "execute_result"
    }
   ],
   "source": [
    "pd.Timestamp('today').strftime('%Y%m%d_result.csv')"
   ]
  },
  {
   "cell_type": "code",
   "execution_count": 72,
   "id": "e3a38c58-2c0b-4914-9a77-fa1b5542b620",
   "metadata": {},
   "outputs": [],
   "source": [
    "result_final = result_final.sort_values(['SKU'])"
   ]
  },
  {
   "cell_type": "code",
   "execution_count": 75,
   "id": "2c160f5c-b03b-41e0-900e-2fa7054c056d",
   "metadata": {},
   "outputs": [],
   "source": [
    "missing_df = result_final[result_final['Handle'].isna()==True]"
   ]
  },
  {
   "cell_type": "code",
   "execution_count": 78,
   "id": "2e22076d-158c-4190-a26b-8bb4fbf9c4f9",
   "metadata": {},
   "outputs": [],
   "source": [
    "dt = pd.Timestamp('today').strftime('%Y%m%d_%H%M%S')"
   ]
  },
  {
   "cell_type": "code",
   "execution_count": 79,
   "id": "1e7cc323-bbb4-4edf-b3e9-9633064cb4aa",
   "metadata": {},
   "outputs": [],
   "source": [
    "result_final.dropna(subset=['Handle']).to_csv(\n",
    "    output.joinpath(f\"{dt}_result.csv\"), index=False)"
   ]
  },
  {
   "cell_type": "markdown",
   "id": "964faa5a-fd3a-4ae5-b8a7-486ac09cbb64",
   "metadata": {},
   "source": [
    "# Output Missing SKUs"
   ]
  },
  {
   "cell_type": "code",
   "execution_count": 81,
   "id": "35675adf-7a6a-44c1-802a-4e137bf0eb4a",
   "metadata": {},
   "outputs": [],
   "source": [
    "missing_df.to_csv(src_path.joinpath('missing_skus',f\"{dt}_missing_sku.csv\"),index=False)"
   ]
  },
  {
   "cell_type": "code",
   "execution_count": 82,
   "id": "2b61df1d-632c-41d7-a7dc-264b017ccf91",
   "metadata": {},
   "outputs": [
    {
     "data": {
      "text/html": [
       "<div>\n",
       "<style scoped>\n",
       "    .dataframe tbody tr th:only-of-type {\n",
       "        vertical-align: middle;\n",
       "    }\n",
       "\n",
       "    .dataframe tbody tr th {\n",
       "        vertical-align: top;\n",
       "    }\n",
       "\n",
       "    .dataframe thead th {\n",
       "        text-align: right;\n",
       "    }\n",
       "</style>\n",
       "<table border=\"1\" class=\"dataframe\">\n",
       "  <thead>\n",
       "    <tr style=\"text-align: right;\">\n",
       "      <th></th>\n",
       "      <th>Handle</th>\n",
       "      <th>SKU</th>\n",
       "      <th>Option1 Name</th>\n",
       "      <th>Option1 Value</th>\n",
       "      <th>Option2 Name</th>\n",
       "      <th>Option2 Value</th>\n",
       "      <th>Option3 Name</th>\n",
       "      <th>Option3 Value</th>\n",
       "      <th>70 rue de la prulay</th>\n",
       "    </tr>\n",
       "  </thead>\n",
       "  <tbody>\n",
       "    <tr>\n",
       "      <th>30</th>\n",
       "      <td>NaN</td>\n",
       "      <td>AS07301</td>\n",
       "      <td>NaN</td>\n",
       "      <td>NaN</td>\n",
       "      <td>&lt;NA&gt;</td>\n",
       "      <td>&lt;NA&gt;</td>\n",
       "      <td>&lt;NA&gt;</td>\n",
       "      <td>&lt;NA&gt;</td>\n",
       "      <td>28.0</td>\n",
       "    </tr>\n",
       "    <tr>\n",
       "      <th>31</th>\n",
       "      <td>NaN</td>\n",
       "      <td>AS07302</td>\n",
       "      <td>NaN</td>\n",
       "      <td>NaN</td>\n",
       "      <td>&lt;NA&gt;</td>\n",
       "      <td>&lt;NA&gt;</td>\n",
       "      <td>&lt;NA&gt;</td>\n",
       "      <td>&lt;NA&gt;</td>\n",
       "      <td>27.0</td>\n",
       "    </tr>\n",
       "    <tr>\n",
       "      <th>36</th>\n",
       "      <td>NaN</td>\n",
       "      <td>AS08001</td>\n",
       "      <td>NaN</td>\n",
       "      <td>NaN</td>\n",
       "      <td>&lt;NA&gt;</td>\n",
       "      <td>&lt;NA&gt;</td>\n",
       "      <td>&lt;NA&gt;</td>\n",
       "      <td>&lt;NA&gt;</td>\n",
       "      <td>10.0</td>\n",
       "    </tr>\n",
       "    <tr>\n",
       "      <th>37</th>\n",
       "      <td>NaN</td>\n",
       "      <td>AS08002</td>\n",
       "      <td>NaN</td>\n",
       "      <td>NaN</td>\n",
       "      <td>&lt;NA&gt;</td>\n",
       "      <td>&lt;NA&gt;</td>\n",
       "      <td>&lt;NA&gt;</td>\n",
       "      <td>&lt;NA&gt;</td>\n",
       "      <td>19.0</td>\n",
       "    </tr>\n",
       "    <tr>\n",
       "      <th>39</th>\n",
       "      <td>NaN</td>\n",
       "      <td>AS083</td>\n",
       "      <td>NaN</td>\n",
       "      <td>NaN</td>\n",
       "      <td>&lt;NA&gt;</td>\n",
       "      <td>&lt;NA&gt;</td>\n",
       "      <td>&lt;NA&gt;</td>\n",
       "      <td>&lt;NA&gt;</td>\n",
       "      <td>19.0</td>\n",
       "    </tr>\n",
       "    <tr>\n",
       "      <th>...</th>\n",
       "      <td>...</td>\n",
       "      <td>...</td>\n",
       "      <td>...</td>\n",
       "      <td>...</td>\n",
       "      <td>...</td>\n",
       "      <td>...</td>\n",
       "      <td>...</td>\n",
       "      <td>...</td>\n",
       "      <td>...</td>\n",
       "    </tr>\n",
       "    <tr>\n",
       "      <th>1737</th>\n",
       "      <td>NaN</td>\n",
       "      <td>WT064-L</td>\n",
       "      <td>NaN</td>\n",
       "      <td>NaN</td>\n",
       "      <td>&lt;NA&gt;</td>\n",
       "      <td>&lt;NA&gt;</td>\n",
       "      <td>&lt;NA&gt;</td>\n",
       "      <td>&lt;NA&gt;</td>\n",
       "      <td>5.0</td>\n",
       "    </tr>\n",
       "    <tr>\n",
       "      <th>1225</th>\n",
       "      <td>NaN</td>\n",
       "      <td>WT064-M</td>\n",
       "      <td>NaN</td>\n",
       "      <td>NaN</td>\n",
       "      <td>&lt;NA&gt;</td>\n",
       "      <td>&lt;NA&gt;</td>\n",
       "      <td>&lt;NA&gt;</td>\n",
       "      <td>&lt;NA&gt;</td>\n",
       "      <td>5.0</td>\n",
       "    </tr>\n",
       "    <tr>\n",
       "      <th>758</th>\n",
       "      <td>NaN</td>\n",
       "      <td>WT064-S</td>\n",
       "      <td>NaN</td>\n",
       "      <td>NaN</td>\n",
       "      <td>&lt;NA&gt;</td>\n",
       "      <td>&lt;NA&gt;</td>\n",
       "      <td>&lt;NA&gt;</td>\n",
       "      <td>&lt;NA&gt;</td>\n",
       "      <td>5.0</td>\n",
       "    </tr>\n",
       "    <tr>\n",
       "      <th>2196</th>\n",
       "      <td>NaN</td>\n",
       "      <td>WT064-XL</td>\n",
       "      <td>NaN</td>\n",
       "      <td>NaN</td>\n",
       "      <td>&lt;NA&gt;</td>\n",
       "      <td>&lt;NA&gt;</td>\n",
       "      <td>&lt;NA&gt;</td>\n",
       "      <td>&lt;NA&gt;</td>\n",
       "      <td>4.0</td>\n",
       "    </tr>\n",
       "    <tr>\n",
       "      <th>296</th>\n",
       "      <td>NaN</td>\n",
       "      <td>WT064-XS</td>\n",
       "      <td>NaN</td>\n",
       "      <td>NaN</td>\n",
       "      <td>&lt;NA&gt;</td>\n",
       "      <td>&lt;NA&gt;</td>\n",
       "      <td>&lt;NA&gt;</td>\n",
       "      <td>&lt;NA&gt;</td>\n",
       "      <td>4.0</td>\n",
       "    </tr>\n",
       "  </tbody>\n",
       "</table>\n",
       "<p>181 rows × 9 columns</p>\n",
       "</div>"
      ],
      "text/plain": [
       "     Handle       SKU Option1 Name Option1 Value Option2 Name Option2 Value  \\\n",
       "30      NaN   AS07301          NaN           NaN         <NA>          <NA>   \n",
       "31      NaN   AS07302          NaN           NaN         <NA>          <NA>   \n",
       "36      NaN   AS08001          NaN           NaN         <NA>          <NA>   \n",
       "37      NaN   AS08002          NaN           NaN         <NA>          <NA>   \n",
       "39      NaN     AS083          NaN           NaN         <NA>          <NA>   \n",
       "...     ...       ...          ...           ...          ...           ...   \n",
       "1737    NaN   WT064-L          NaN           NaN         <NA>          <NA>   \n",
       "1225    NaN   WT064-M          NaN           NaN         <NA>          <NA>   \n",
       "758     NaN   WT064-S          NaN           NaN         <NA>          <NA>   \n",
       "2196    NaN  WT064-XL          NaN           NaN         <NA>          <NA>   \n",
       "296     NaN  WT064-XS          NaN           NaN         <NA>          <NA>   \n",
       "\n",
       "     Option3 Name Option3 Value  70 rue de la prulay  \n",
       "30           <NA>          <NA>                 28.0  \n",
       "31           <NA>          <NA>                 27.0  \n",
       "36           <NA>          <NA>                 10.0  \n",
       "37           <NA>          <NA>                 19.0  \n",
       "39           <NA>          <NA>                 19.0  \n",
       "...           ...           ...                  ...  \n",
       "1737         <NA>          <NA>                  5.0  \n",
       "1225         <NA>          <NA>                  5.0  \n",
       "758          <NA>          <NA>                  5.0  \n",
       "2196         <NA>          <NA>                  4.0  \n",
       "296          <NA>          <NA>                  4.0  \n",
       "\n",
       "[181 rows x 9 columns]"
      ]
     },
     "execution_count": 82,
     "metadata": {},
     "output_type": "execute_result"
    }
   ],
   "source": [
    "missing_df['SKU']"
   ]
  }
 ],
 "metadata": {
  "kernelspec": {
   "display_name": "Python 3 (ipykernel)",
   "language": "python",
   "name": "python3"
  },
  "language_info": {
   "codemirror_mode": {
    "name": "ipython",
    "version": 3
   },
   "file_extension": ".py",
   "mimetype": "text/x-python",
   "name": "python",
   "nbconvert_exporter": "python",
   "pygments_lexer": "ipython3",
   "version": "3.8.5"
  }
 },
 "nbformat": 4,
 "nbformat_minor": 5
}
