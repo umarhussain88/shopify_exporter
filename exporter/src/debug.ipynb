{
 "cells": [
  {
   "cell_type": "code",
   "execution_count": 12,
   "id": "b9d1f976-0376-4e37-b148-f3ec1ca5744e",
   "metadata": {},
   "outputs": [],
   "source": [
    "from helpers.constants import src_dict\n",
    "from helpers.helpers import get_newest_file\n",
    "import pandas as pd"
   ]
  },
  {
   "cell_type": "code",
   "execution_count": 10,
   "id": "3ddc733d-1ed7-465c-aa4a-08006b68523b",
   "metadata": {},
   "outputs": [],
   "source": [
    "f = get_newest_file(src_dict['raw'],'xls')"
   ]
  },
  {
   "cell_type": "code",
   "execution_count": 13,
   "id": "8253919e-f31d-446f-a5eb-852f0cc9bbb7",
   "metadata": {},
   "outputs": [],
   "source": [
    "raw_df = pd.read_excel(f)"
   ]
  },
  {
   "cell_type": "code",
   "execution_count": 18,
   "id": "7f629e54-aa60-4fc5-8012-c419d2827de3",
   "metadata": {},
   "outputs": [],
   "source": [
    "cols = raw_df.columns.tolist()"
   ]
  },
  {
   "cell_type": "code",
   "execution_count": 20,
   "id": "12745b33-8c3f-439b-8d96-6aabc7dc7480",
   "metadata": {},
   "outputs": [],
   "source": [
    "cols[0] = 'code'"
   ]
  },
  {
   "cell_type": "code",
   "execution_count": 21,
   "id": "863df1ca-aea4-4849-8aa0-30ba20ce0d20",
   "metadata": {},
   "outputs": [],
   "source": [
    "cols[-1] = 'total'"
   ]
  },
  {
   "cell_type": "code",
   "execution_count": 23,
   "id": "4a4e6e6e-c7c3-45a5-8241-573fae6aa1f1",
   "metadata": {},
   "outputs": [],
   "source": [
    "raw_df.columns = cols"
   ]
  },
  {
   "cell_type": "code",
   "execution_count": 56,
   "id": "e4ce96b1-21fd-41ef-b9ab-05b862ffed40",
   "metadata": {},
   "outputs": [
    {
     "data": {
      "text/html": [
       "<div>\n",
       "<style scoped>\n",
       "    .dataframe tbody tr th:only-of-type {\n",
       "        vertical-align: middle;\n",
       "    }\n",
       "\n",
       "    .dataframe tbody tr th {\n",
       "        vertical-align: top;\n",
       "    }\n",
       "\n",
       "    .dataframe thead th {\n",
       "        text-align: right;\n",
       "    }\n",
       "</style>\n",
       "<table border=\"1\" class=\"dataframe\">\n",
       "  <thead>\n",
       "    <tr style=\"text-align: right;\">\n",
       "      <th></th>\n",
       "      <th>code</th>\n",
       "      <th>F</th>\n",
       "      <th>XS</th>\n",
       "      <th>S</th>\n",
       "      <th>M</th>\n",
       "      <th>L</th>\n",
       "      <th>XL</th>\n",
       "      <th>2XL</th>\n",
       "      <th>3XL</th>\n",
       "      <th>4XL</th>\n",
       "      <th>5XL</th>\n",
       "      <th>6XL</th>\n",
       "      <th>total</th>\n",
       "    </tr>\n",
       "  </thead>\n",
       "  <tbody>\n",
       "    <tr>\n",
       "      <th>478</th>\n",
       "      <td>SKT105</td>\n",
       "      <td></td>\n",
       "      <td></td>\n",
       "      <td></td>\n",
       "      <td>0.0</td>\n",
       "      <td></td>\n",
       "      <td></td>\n",
       "      <td>4.0</td>\n",
       "      <td></td>\n",
       "      <td>16.0</td>\n",
       "      <td></td>\n",
       "      <td></td>\n",
       "      <td>20</td>\n",
       "    </tr>\n",
       "  </tbody>\n",
       "</table>\n",
       "</div>"
      ],
      "text/plain": [
       "       code F XS S    M L XL  2XL 3XL   4XL 5XL 6XL  total\n",
       "478  SKT105         0.0       4.0      16.0             20"
      ]
     },
     "execution_count": 56,
     "metadata": {},
     "output_type": "execute_result"
    }
   ],
   "source": [
    "raw_df[raw_df['code'].eq('SKT105')].fillna('')"
   ]
  },
  {
   "cell_type": "code",
   "execution_count": 27,
   "id": "156c7b0d-f101-4d82-9a2f-8e94d8f8cb9c",
   "metadata": {},
   "outputs": [],
   "source": [
    "c_f = get_newest_file(src_dict['output'],'csv')"
   ]
  },
  {
   "cell_type": "code",
   "execution_count": 29,
   "id": "8a5e536d-43bc-47fb-a4c3-fa1eb63e2df0",
   "metadata": {},
   "outputs": [],
   "source": [
    "df = pd.read_csv(c_f)"
   ]
  },
  {
   "cell_type": "code",
   "execution_count": 37,
   "id": "eab6bfd5-081e-4c7e-bb19-c32991f709bb",
   "metadata": {},
   "outputs": [],
   "source": [
    "dims = get_newest_file(src_dict['dim'],'xlsx')"
   ]
  },
  {
   "cell_type": "code",
   "execution_count": 39,
   "id": "d541f00f-ebdc-4437-a040-68be7dbfc507",
   "metadata": {},
   "outputs": [],
   "source": [
    "dim_df = pd.read_excel(dims)"
   ]
  },
  {
   "cell_type": "code",
   "execution_count": 55,
   "id": "0370bf5f-aae2-4a13-a9e9-b383c31ee376",
   "metadata": {},
   "outputs": [
    {
     "data": {
      "text/plain": [
       "'nekhbet-steampunk-corset-with-metal-buckles'"
      ]
     },
     "execution_count": 55,
     "metadata": {},
     "output_type": "execute_result"
    }
   ],
   "source": [
    "#This is what is in the output file for row 27 \n",
    "df.iloc[25:]['Handle'][27]"
   ]
  },
  {
   "cell_type": "code",
   "execution_count": 50,
   "id": "adf00cac-3f9b-4201-807b-3b379f10f2ee",
   "metadata": {},
   "outputs": [
    {
     "data": {
      "text/plain": [
       "'nekhbet-steampunk-corset-with-metal-buckles'"
      ]
     },
     "execution_count": 50,
     "metadata": {},
     "output_type": "execute_result"
    }
   ],
   "source": [
    "#This is from the Dimension File - looking at the SKU associated with row 27\n",
    "#AS045-L\n",
    "dim_df[dim_df['Variant SKU'].str.contains('AS045-L')==True]['Handle'].values[0]"
   ]
  },
  {
   "cell_type": "code",
   "execution_count": 57,
   "id": "cf7a077b-f4a4-47bf-aa9b-e7b01db43a69",
   "metadata": {},
   "outputs": [
    {
     "data": {
      "text/html": [
       "<div>\n",
       "<style scoped>\n",
       "    .dataframe tbody tr th:only-of-type {\n",
       "        vertical-align: middle;\n",
       "    }\n",
       "\n",
       "    .dataframe tbody tr th {\n",
       "        vertical-align: top;\n",
       "    }\n",
       "\n",
       "    .dataframe thead th {\n",
       "        text-align: right;\n",
       "    }\n",
       "</style>\n",
       "<table border=\"1\" class=\"dataframe\">\n",
       "  <thead>\n",
       "    <tr style=\"text-align: right;\">\n",
       "      <th></th>\n",
       "      <th>Handle</th>\n",
       "      <th>SKU</th>\n",
       "      <th>Option1 Name</th>\n",
       "      <th>Option1 Value</th>\n",
       "      <th>Option2 Name</th>\n",
       "      <th>Option2 Value</th>\n",
       "      <th>Option3 Name</th>\n",
       "      <th>Option3 Value</th>\n",
       "      <th>70 rue de la prulay</th>\n",
       "    </tr>\n",
       "  </thead>\n",
       "  <tbody>\n",
       "    <tr>\n",
       "      <th>2371</th>\n",
       "      <td>anachronistic-fantasy-steampunk-faux-leather-d...</td>\n",
       "      <td>SKT105-2XL</td>\n",
       "      <td>Size</td>\n",
       "      <td>L-2XL</td>\n",
       "      <td></td>\n",
       "      <td></td>\n",
       "      <td></td>\n",
       "      <td></td>\n",
       "      <td>4.0</td>\n",
       "    </tr>\n",
       "    <tr>\n",
       "      <th>2372</th>\n",
       "      <td>anachronistic-fantasy-steampunk-faux-leather-d...</td>\n",
       "      <td>SKT105-4XL</td>\n",
       "      <td>Size</td>\n",
       "      <td>3XL-4XL</td>\n",
       "      <td></td>\n",
       "      <td></td>\n",
       "      <td></td>\n",
       "      <td></td>\n",
       "      <td>16.0</td>\n",
       "    </tr>\n",
       "    <tr>\n",
       "      <th>2373</th>\n",
       "      <td>anachronistic-fantasy-steampunk-faux-leather-d...</td>\n",
       "      <td>SKT105-M</td>\n",
       "      <td>Size</td>\n",
       "      <td>XS-M</td>\n",
       "      <td></td>\n",
       "      <td></td>\n",
       "      <td></td>\n",
       "      <td></td>\n",
       "      <td>0.0</td>\n",
       "    </tr>\n",
       "  </tbody>\n",
       "</table>\n",
       "</div>"
      ],
      "text/plain": [
       "                                                 Handle         SKU Option1 Name  ... Option3 Name Option3 Value 70 rue de la prulay\n",
       "2371  anachronistic-fantasy-steampunk-faux-leather-d...  SKT105-2XL         Size  ...                                            4.0\n",
       "2372  anachronistic-fantasy-steampunk-faux-leather-d...  SKT105-4XL         Size  ...                                           16.0\n",
       "2373  anachronistic-fantasy-steampunk-faux-leather-d...    SKT105-M         Size  ...                                            0.0\n",
       "\n",
       "[3 rows x 9 columns]"
      ]
     },
     "execution_count": 57,
     "metadata": {},
     "output_type": "execute_result"
    }
   ],
   "source": [
    "df[df['SKU'].str.contains('SKT105')].fillna('')"
   ]
  }
 ],
 "metadata": {
  "kernelspec": {
   "display_name": "Python 3 (ipykernel)",
   "language": "python",
   "name": "python3"
  },
  "language_info": {
   "codemirror_mode": {
    "name": "ipython",
    "version": 3
   },
   "file_extension": ".py",
   "mimetype": "text/x-python",
   "name": "python",
   "nbconvert_exporter": "python",
   "pygments_lexer": "ipython3",
   "version": "3.8.3"
  }
 },
 "nbformat": 4,
 "nbformat_minor": 5
}
